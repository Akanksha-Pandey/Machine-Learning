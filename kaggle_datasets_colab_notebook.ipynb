{
  "cells": [
    {
      "cell_type": "markdown",
      "metadata": {},
      "source": [
        "Download the kaggle API token from your account to your machine and then upload that token to your google API"
      ]
    },
    {
      "cell_type": "code",
      "execution_count": null,
      "metadata": {},
      "outputs": [],
      "source": [
        "# run this code after uploading the Kaggle API token\n",
        "\n",
        "!mkdir -p ~/.kaggle\n",
        "!cp kaggle.json ~/.kaggle/"
      ]
    },
    {
      "cell_type": "code",
      "execution_count": null,
      "metadata": {
        "colab": {
          "base_uri": "https://localhost:8080/"
        },
        "id": "ivF2WO1JwuK8",
        "outputId": "7cf57bc4-9c90-4897-f6f1-e6e7f7dd7ef5"
      },
      "outputs": [
        {
          "name": "stdout",
          "output_type": "stream",
          "text": [
            "Warning: Your Kaggle API key is readable by other users on this system! To fix this, you can run 'chmod 600 /root/.kaggle/kaggle.json'\n",
            "Downloading face-mask-detection-dataset.zip to /content\n",
            "100% 2.49G/2.50G [00:23<00:00, 114MB/s]\n",
            "100% 2.50G/2.50G [00:24<00:00, 112MB/s]\n"
          ]
        }
      ],
      "source": [
        "# Get Kaggle API command from the settings of the dataset page on Kaggle\n",
        "\n",
        "!kaggle datasets download -d wobotintelligence/face-mask-detection-dataset"
      ]
    },
    {
      "cell_type": "code",
      "execution_count": null,
      "metadata": {
        "id": "UbgAcIZBwz2_"
      },
      "outputs": [],
      "source": [
        "# Data downloaded from kaggle is in zip format. to unzip it run this command\n",
        "\n",
        "import zipfile\n",
        "zip_ref = zipfile.ZipFile('face-mask-detection-dataset.zip', 'r')\n",
        "zip_ref.extractall('/content')\n",
        "zip_ref.close()"
      ]
    }
  ],
  "metadata": {
    "colab": {
      "name": "Untitled30.ipynb",
      "provenance": []
    },
    "kernelspec": {
      "display_name": "Python 3",
      "name": "python3"
    },
    "language_info": {
      "name": "python"
    }
  },
  "nbformat": 4,
  "nbformat_minor": 0
}
